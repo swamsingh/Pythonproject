{
 "cells": [
  {
   "cell_type": "code",
   "execution_count": 2,
   "id": "475937e9",
   "metadata": {},
   "outputs": [
    {
     "name": "stdout",
     "output_type": "stream",
     "text": [
      "Defaulting to user installation because normal site-packages is not writeable\n",
      "Requirement already satisfied: pyaudio in c:\\users\\hp\\appdata\\roaming\\python\\python311\\site-packages (0.2.14)\n"
     ]
    }
   ],
   "source": [
    "!pip install pyaudio"
   ]
  },
  {
   "cell_type": "code",
   "execution_count": 3,
   "id": "c09d7f2d",
   "metadata": {},
   "outputs": [
    {
     "name": "stdout",
     "output_type": "stream",
     "text": [
      "Defaulting to user installation because normal site-packages is not writeable\n",
      "Requirement already satisfied: pydub in c:\\users\\hp\\appdata\\roaming\\python\\python311\\site-packages (0.25.1)\n",
      "Note: you may need to restart the kernel to use updated packages.\n"
     ]
    }
   ],
   "source": [
    "pip install pydub"
   ]
  },
  {
   "cell_type": "code",
   "execution_count": 4,
   "id": "0722f4a5",
   "metadata": {},
   "outputs": [
    {
     "name": "stdout",
     "output_type": "stream",
     "text": [
      "Name: PyAudio\n",
      "Version: 0.2.14\n",
      "Summary: Cross-platform audio I/O with PortAudio\n",
      "Home-page: https://people.csail.mit.edu/hubert/pyaudio/\n",
      "Author: Hubert Pham\n",
      "Author-email: \n",
      "License: MIT\n",
      "Location: C:\\Users\\hp\\AppData\\Roaming\\Python\\Python311\\site-packages\n",
      "Requires: \n",
      "Required-by: \n",
      "Note: you may need to restart the kernel to use updated packages.\n"
     ]
    }
   ],
   "source": [
    "pip show pyaudio"
   ]
  },
  {
   "cell_type": "code",
   "execution_count": 6,
   "id": "edd58775",
   "metadata": {},
   "outputs": [],
   "source": [
    "import pyaudio  # For recording audio input from the microphone"
   ]
  },
  {
   "cell_type": "code",
   "execution_count": 7,
   "id": "53a5bf05",
   "metadata": {},
   "outputs": [],
   "source": [
    "import os  # Provides functions to interact with the operating system (like file path"
   ]
  },
  {
   "cell_type": "code",
   "execution_count": 8,
   "id": "133e7e18",
   "metadata": {},
   "outputs": [],
   "source": [
    "import time  # Used to track time, such as how long you've been recording"
   ]
  },
  {
   "cell_type": "code",
   "execution_count": 9,
   "id": "66f67e0d",
   "metadata": {},
   "outputs": [],
   "source": [
    "import threading  # Allows multiple processes to run simultaneously (like recording without freezing the UI)"
   ]
  },
  {
   "cell_type": "code",
   "execution_count": 10,
   "id": "71dbc86e",
   "metadata": {},
   "outputs": [],
   "source": [
    "import tkinter as tk  # For creating the graphical user interface "
   ]
  },
  {
   "cell_type": "code",
   "execution_count": 11,
   "id": "6c01eff8",
   "metadata": {},
   "outputs": [],
   "source": [
    "# here we using pydub to convert the auio in .mp3 file \n",
    "from pydub import AudioSegment  # For audio manipulation and format conversion\n",
    "from pydub.utils import make_chunks  # For breaking audio into smaller parts if needed\n",
    "from io import BytesIO  # To handle in-memory audio data\n"
   ]
  },
  {
   "cell_type": "code",
   "execution_count": 12,
   "id": "388c626e",
   "metadata": {},
   "outputs": [
    {
     "data": {
      "text/plain": [
       "<__main__.VoiceRecorder at 0x19cbf675850>"
      ]
     },
     "execution_count": 12,
     "metadata": {},
     "output_type": "execute_result"
    }
   ],
   "source": [
    "class VoiceRecorder:\n",
    "    def __init__(self):\n",
    "        # Create the main window\n",
    "        self.root = tk.Tk()\n",
    "        self.root.title(\"Voice Recorder\")  # Set the window title\n",
    "        self.root.resizable(False, False)  # Prevent the window from being resized\n",
    "        \n",
    "        # Create a button with a microphone emoji 🎤, when clicked it will start/stop recording\n",
    "        self.button = tk.Button(self.root, text=\"🎤\", font=(\"Arial\", 120, \"bold\"), command=self.click_handler)\n",
    "        self.button.pack()  # Display the button on the window\n",
    "\n",
    "        # Label to display the recording duration in \"00:00:00\" format\n",
    "        self.label = tk.Label(self.root, text=\"00:00:00\", font=(\"Arial\", 24))\n",
    "        self.label.pack()  # Display the label below the button\n",
    "        \n",
    "        self.recording = False  # Flag to check if we're currently recording or not\n",
    "        self.frames = []  # Store audio frames in memory while recording\n",
    "        self.root.mainloop()  # Start the Tkinter event loop, keeps the window open\n",
    "\n",
    "    def click_handler(self):\n",
    "        # Toggle recording state when the button is clicked\n",
    "        if self.recording:\n",
    "            self.recording = False  # Stop recording\n",
    "            self.button.config(fg=\"black\")  # Change the button text color to black when not recording\n",
    "        else:\n",
    "            self.recording = True  # Start recording\n",
    "            self.button.config(fg=\"red\")  # Change the button text color to red while recording\n",
    "            # Run the record function in a separate thread to avoid freezing the interface\n",
    "            threading.Thread(target=self.record).start()\n",
    "\n",
    "    def record(self):\n",
    "        audio = pyaudio.PyAudio()  # Create an audio object to interact with the audio device\n",
    "        # Open an audio stream to record from the microphone\n",
    "        stream = audio.open(format=pyaudio.paInt16, channels=1, rate=44100,\n",
    "                            input=True, frames_per_buffer=1024)\n",
    "        \n",
    "        self.frames = []  # Clear previous frames\n",
    "        start = time.time()  # Start time to track how long we've been recording\n",
    "\n",
    "        while self.recording:\n",
    "            data = stream.read(1024)  # Read 1024 samples from the microphone\n",
    "            self.frames.append(data)  # Add the recorded data to the frames list\n",
    "\n",
    "            # Calculate the time passed since recording started\n",
    "            passed = time.time() - start\n",
    "            secs = int(passed % 60)  # Calculate seconds\n",
    "            mins = int((passed // 60) % 60)  # Calculate minutes\n",
    "            hours = int(passed // 3600)  # Calculate hours\n",
    "            # Update the label to display the current duration\n",
    "            self.label.config(text=f\"{hours:02d}:{mins:02d}:{secs:02d}\")\n",
    "        \n",
    "        # Stop the audio stream when recording is finished\n",
    "        stream.stop_stream()\n",
    "        stream.close()  # Close the audio stream\n",
    "        audio.terminate()  # Terminate the audio object (clean up)\n",
    "\n",
    "        # Combine the frames into a single audio segment using pydub\n",
    "        audio_segment = AudioSegment(\n",
    "            data=b''.join(self.frames), \n",
    "            sample_width=2,  # pyaudio.paInt16 gives 2 bytes per sample\n",
    "            frame_rate=44100,\n",
    "            channels=1\n",
    "        )\n",
    "\n",
    "        # using this command to save the files in Downloads folder\n",
    "        downloads_folder = os.path.join(os.path.expanduser(\"~\"), \"Downloads\")\n",
    "        \n",
    "        # Create a unique filename\n",
    "        exists = True\n",
    "        i = 1\n",
    "        while exists: \n",
    "            file_path_mp3 = os.path.join(downloads_folder, f\"recording{i}.mp3\")  # Create a new filename\n",
    "            if os.path.exists(file_path_mp3):  # Check if the file already exists\n",
    "                i += 1  # If it does, increment the number\n",
    "            else:\n",
    "                exists = False  # If it doesn't exist, stop the loop\n",
    "\n",
    "        # Save the recorded data directly as an MP3 file\n",
    "        audio_segment.export(file_path_mp3, format=\"mp3\")  \n",
    "        \n",
    "        # we make this command to tell the user where the save files is sitiuated \n",
    "        print(f\"Audio saved as {file_path_mp3}\")\n",
    "\n",
    "# to Run the Voice Recorder \n",
    "VoiceRecorder()"
   ]
  },
  {
   "cell_type": "code",
   "execution_count": null,
   "id": "0494d58f",
   "metadata": {},
   "outputs": [],
   "source": [
    "#when you run this program so u c a icon appear in the icon bar if the mic does not show directly on the \n",
    "#screen just click that and then u c a mic icon or image on screen just the mic to on and off the recording "
   ]
  }
 ],
 "metadata": {
  "kernelspec": {
   "display_name": "Python 3 (ipykernel)",
   "language": "python",
   "name": "python3"
  },
  "language_info": {
   "codemirror_mode": {
    "name": "ipython",
    "version": 3
   },
   "file_extension": ".py",
   "mimetype": "text/x-python",
   "name": "python",
   "nbconvert_exporter": "python",
   "pygments_lexer": "ipython3",
   "version": "3.11.5"
  }
 },
 "nbformat": 4,
 "nbformat_minor": 5
}
